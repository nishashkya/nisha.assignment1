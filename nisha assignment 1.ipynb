{
 "cells": [
  {
   "cell_type": "code",
   "execution_count": null,
   "id": "1ac7bca5-6325-446d-bc1e-2de5ae703ab5",
   "metadata": {},
   "outputs": [],
   "source": [
    "ques-1_answer    A Dutch programmer guido van rossum developed the python programming language."
   ]
  },
  {
   "cell_type": "code",
   "execution_count": null,
   "id": "21a44201-32c6-4e03-9628-3a019a21e727",
   "metadata": {},
   "outputs": [],
   "source": [
    "ques-2_ answer   Python is an interpreted programming language, supporting object-oriented, structured, and functional programming."
   ]
  },
  {
   "cell_type": "code",
   "execution_count": null,
   "id": "df8bc349-b64a-40d0-89af-b26915c544ec",
   "metadata": {},
   "outputs": [],
   "source": [
    "ques-3_answer   yes, Python is a case-sensitive language. This means, Variable and variable are not the same. Always give the identifiers a name that makes sense"
   ]
  },
  {
   "cell_type": "code",
   "execution_count": null,
   "id": "fbb438ef-d97f-46c1-88f8-1ad256b39b33",
   "metadata": {},
   "outputs": [],
   "source": [
    "ques4_answer   .py is the correct extension of python file."
   ]
  },
  {
   "cell_type": "code",
   "execution_count": null,
   "id": "b9ca500d-aab9-4e78-a20e-fc0a90ceb994",
   "metadata": {},
   "outputs": [],
   "source": [
    "Q-5_Answer\n",
    "          it is proven that python programs are both compiled as well as interpreted but the compilation part\n",
    "    is hidden from the programmer."
   ]
  },
  {
   "cell_type": "code",
   "execution_count": null,
   "id": "9b535b7a-1843-4ea8-a133-9effaabc760d",
   "metadata": {},
   "outputs": [],
   "source": [
    "Q-6_Answer\n",
    "           Python uses indentation to define blocks of code. Indentations are simply spaces or tabs used as an\n",
    "    indicator that is part of the indent code child as Curly braces are used in the C programming language."
   ]
  },
  {
   "cell_type": "code",
   "execution_count": null,
   "id": "528eae1c-9b0e-4bc1-9721-e5b04dd593cd",
   "metadata": {},
   "outputs": [],
   "source": [
    "Q-7_Answer\n",
    "          Hash character(#) is used to comment the line in the Python program. \n",
    "              Comments does not have to be text to explain the code, it can also be used to prevent Python from executing code. The hash character should be placed\n",
    "    before the line to be commented."
   ]
  },
  {
   "cell_type": "code",
   "execution_count": null,
   "id": "5944b9d8-05ae-40e9-bd2d-5d83019a0747",
   "metadata": {},
   "outputs": [],
   "source": [
    "Q-8_Answer\n",
    "          The function sys.version can help us to find the version of python that we are currently working on. It also\n",
    "    contains information on the build number and compiler used.\n"
   ]
  },
  {
   "cell_type": "code",
   "execution_count": null,
   "id": "91d5c698-fe0e-4f8f-b1d1-944ab8bb8b3f",
   "metadata": {},
   "outputs": [],
   "source": [
    "Q-9_Answer\n",
    "          Python Lambda helps in the creation of anonymous function at runtime,means that the function is without a name. As we already\n",
    "     know that the def keyword is used to define a normal function in Python. Similarly, the lambda keyword is used to\n",
    "     define an anonymous function in Python."
   ]
  },
  {
   "cell_type": "code",
   "execution_count": null,
   "id": "ac3126f1-4ad0-4889-a0d6-290c10287811",
   "metadata": {},
   "outputs": [],
   "source": [
    "Q-10_Answer\n",
    "            pip stands for \"preferred installer program\".\n",
    "              "
   ]
  },
  {
   "cell_type": "code",
   "execution_count": null,
   "id": "1c1b1d08-cd27-4fe4-b785-bbd9708ecf12",
   "metadata": {},
   "outputs": [],
   "source": [
    "Q-11_Answer\n",
    "           Those fumction which are defined by system is called built-in function.\n",
    "        print( ) function.\n",
    "        type( ) function.\n",
    "        input( ) function.\n",
    "        abs( ) function.\n",
    "        pow( ) function.\n",
    "        dir( ) function.\n",
    "        sorted( ) function\n",
    "        max( ) function.\n",
    "        These are some buit-in function in python."
   ]
  },
  {
   "cell_type": "code",
   "execution_count": null,
   "id": "56e5cbb4-d76f-4fe9-8d97-d1d57165cb87",
   "metadata": {},
   "outputs": [],
   "source": [
    "Q-12_Answer\n",
    "           An identifier can have a maximum length of 79 characters in Python.\n",
    "              "
   ]
  },
  {
   "cell_type": "code",
   "execution_count": null,
   "id": "53005f03-857f-4fd5-9e33-6d6f18c98e01",
   "metadata": {},
   "outputs": [],
   "source": [
    "Q-13_Answer\n",
    "            Python is commonly used for developing websites and software, task automation, \n",
    "    data analysis, and data visualization\n",
    "    1) Python is Extensible : Python on its own is a powerful programming language, but there is always room for improvement. That being said, Python is highly\n",
    "    extensible, it means that you can exten python to other programming languages.\n",
    "    2) Python Libraries\n",
    "       Speaking of adding functionality to Python – one of the major benefits of choosing Python as your programming language of choice .Libraries help reduce coding errors, make programmers more efficient, and make software smaller in size (and lines of code). \n",
    "    3) Python Community\n",
    "Without a doubt, one of the most important benefits of Python is its vast community of developers and software engineers. This community helps support Python and thus Python developers in numerous ways. "
   ]
  },
  {
   "cell_type": "code",
   "execution_count": null,
   "id": "1905cdb2-f82e-4f1e-bc0c-cc23056db5e4",
   "metadata": {},
   "outputs": [],
   "source": [
    "Q-14_Answer\n",
    "           Memory in Python is managed by Python private heap space. All Python objects and\n",
    "     data structures are located in a private heap. This private heap is taken careof by Python\n",
    "    Interpreter itself, and a programmer doesn't have access to this private heap.\n",
    "    "
   ]
  },
  {
   "cell_type": "code",
   "execution_count": null,
   "id": "e18515bc-4e31-4460-8bee-8fc5d48a9744",
   "metadata": {},
   "outputs": [],
   "source": [
    "Q-15_Answer\n",
    "          Right-clicking This PC and going to Properties.\n",
    "\n",
    "    Clicking on the Advanced system settings in the menu on the left.\n",
    "\n",
    "    Clicking on the Environment Variables button o​n the bottom right.\n",
    "\n",
    "    In the System variables section, selecting the Path variable and clicking on Edit.\n",
    "    The next screen will show all the directories that are currently a part of the PATH variable.\n",
    "\n",
    "    Clicking on New and entering Python’s install directory.\n",
    "    Python can now be used directly from the command prompt without having to write its location.\n",
    "    Try executing the command python --version; it will output the version of Python installed on your system.\n",
    " "
   ]
  },
  {
   "cell_type": "code",
   "execution_count": null,
   "id": "d9e2e0a6-d25d-4a4b-8230-7d5c0084f207",
   "metadata": {},
   "outputs": [],
   "source": [
    "Q-16_Answer\n",
    "            Yes,Identation is required in python because Python indentation is a way of telling a Python interpreter that the group of statements belongs to a\n",
    "    particular block of code. A block is a combination of all these statements.\n",
    "              "
   ]
  }
 ],
 "metadata": {
  "kernelspec": {
   "display_name": "Python 3 (ipykernel)",
   "language": "python",
   "name": "python3"
  },
  "language_info": {
   "codemirror_mode": {
    "name": "ipython",
    "version": 3
   },
   "file_extension": ".py",
   "mimetype": "text/x-python",
   "name": "python",
   "nbconvert_exporter": "python",
   "pygments_lexer": "ipython3",
   "version": "3.10.6"
  }
 },
 "nbformat": 4,
 "nbformat_minor": 5
}
